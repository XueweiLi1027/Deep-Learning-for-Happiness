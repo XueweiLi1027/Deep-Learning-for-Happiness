{
 "cells": [
  {
   "cell_type": "code",
   "execution_count": 2,
   "metadata": {},
   "outputs": [
    {
     "name": "stderr",
     "output_type": "stream",
     "text": [
      "/Users/liuguanhong/Library/Python/3.9/lib/python/site-packages/pydub/utils.py:170: RuntimeWarning: Couldn't find ffmpeg or avconv - defaulting to ffmpeg, but may not work\n",
      "  warn(\"Couldn't find ffmpeg or avconv - defaulting to ffmpeg, but may not work\", RuntimeWarning)\n",
      "/Users/liuguanhong/Library/Python/3.9/lib/python/site-packages/pydantic/_internal/_fields.py:151: UserWarning: Field \"model_provider\" has conflict with protected namespace \"model_\".\n",
      "\n",
      "You may be able to resolve this warning by setting `model_config['protected_namespaces'] = ()`.\n",
      "  warnings.warn(\n",
      "/Users/liuguanhong/Library/Python/3.9/lib/python/site-packages/pydantic/_internal/_fields.py:151: UserWarning: Field \"model_resource\" has conflict with protected namespace \"model_\".\n",
      "\n",
      "You may be able to resolve this warning by setting `model_config['protected_namespaces'] = ()`.\n",
      "  warnings.warn(\n"
     ]
    }
   ],
   "source": [
    "import zipfile\n",
    "import os\n",
    "import pandas as pd\n",
    "from hume import HumeBatchClient\n",
    "from hume.models.config import FaceConfig"
   ]
  },
  {
   "cell_type": "code",
   "execution_count": 7,
   "metadata": {},
   "outputs": [
    {
     "name": "stderr",
     "output_type": "stream",
     "text": [
      "2024-05-13 12:17:34,392 - INFO - HTTP Request: POST https://api.hume.ai/v0/batch/jobs \"HTTP/2 200 OK\"\n",
      "2024-05-13 12:17:34,397 - INFO - Retry attempt 1, waited 0s total\n",
      "2024-05-13 12:17:34,493 - INFO - HTTP Request: GET https://api.hume.ai/v0/batch/jobs/4465d129-c3b6-4f2a-90fb-47f9d0429fea \"HTTP/2 200 OK\"\n",
      "2024-05-13 12:17:34,494 - INFO - Retry iteration 1 failed: \n"
     ]
    },
    {
     "name": "stdout",
     "output_type": "stream",
     "text": [
      "Running facial analysis...\n"
     ]
    },
    {
     "name": "stderr",
     "output_type": "stream",
     "text": [
      "2024-05-13 12:17:35,495 - INFO - Retry attempt 2, waited 1s total\n",
      "2024-05-13 12:17:35,548 - INFO - HTTP Request: GET https://api.hume.ai/v0/batch/jobs/4465d129-c3b6-4f2a-90fb-47f9d0429fea \"HTTP/2 200 OK\"\n",
      "2024-05-13 12:17:35,549 - INFO - Retry iteration 2 failed: \n",
      "2024-05-13 12:17:37,554 - INFO - Retry attempt 3, waited 3s total\n",
      "2024-05-13 12:17:37,612 - INFO - HTTP Request: GET https://api.hume.ai/v0/batch/jobs/4465d129-c3b6-4f2a-90fb-47f9d0429fea \"HTTP/2 200 OK\"\n",
      "2024-05-13 12:17:37,614 - INFO - Retry iteration 3 failed: \n",
      "2024-05-13 12:17:41,619 - INFO - Retry attempt 4, waited 7s total\n",
      "2024-05-13 12:17:41,668 - INFO - HTTP Request: GET https://api.hume.ai/v0/batch/jobs/4465d129-c3b6-4f2a-90fb-47f9d0429fea \"HTTP/2 200 OK\"\n",
      "2024-05-13 12:17:41,781 - INFO - HTTP Request: GET https://api.hume.ai/v0/batch/jobs/4465d129-c3b6-4f2a-90fb-47f9d0429fea/artifacts \"HTTP/2 200 OK\"\n"
     ]
    },
    {
     "name": "stdout",
     "output_type": "stream",
     "text": [
      "Facial analysis results saved to '/Users/liuguanhong/Desktop/facial_analysis_results.csv'.\n"
     ]
    }
   ],
   "source": [
    "# 初始化Hume.ai客户端\n",
    "client = HumeBatchClient(\"9FfD6nMezmjb1hvTaWwy09YGBCWDwL9NuK7cFipfZjq49iW7\")\n",
    "\n",
    "# 设置本地图像的路径\n",
    "image_dir = \"./train\"\n",
    "image_files = [os.path.join(image_dir, f) for f in os.listdir(image_dir) if f.endswith(('.png', '.jpg', '.jpeg'))]\n",
    "\n",
    "# 限制只分析前10个图像\n",
    "image_files = image_files[:15]\n",
    "\n",
    "# 创建一个空的DataFrame来存储结果\n",
    "results_df = pd.DataFrame()\n",
    "\n",
    "# 提交分析任务\n",
    "config = FaceConfig()  # 初始化分析配置\n",
    "job = client.submit_job(None, [config], files=image_files)\n",
    "print(\"Running facial analysis...\")\n",
    "details = job.await_complete()\n",
    "\n",
    "# 下载分析结果\n",
    "artifacts_path = os.path.join(image_dir, 'artifacts.zip')\n",
    "job.download_artifacts(artifacts_path)\n",
    "\n",
    "# 解压分析结果\n",
    "with zipfile.ZipFile(artifacts_path, 'r') as zip_file:\n",
    "    zip_file.extractall(os.path.join(image_dir, 'predictions'))\n",
    "\n",
    "# 设置解压目录路径\n",
    "predictions_path = os.path.join(image_dir, 'predictions')\n",
    "\n",
    "# 创建一个空的DataFrame来存储结果\n",
    "results_df = pd.DataFrame()\n",
    "\n",
    "# 递归遍历predictions目录，找到所有CSV文件\n",
    "for root, dirs, files in os.walk(predictions_path):\n",
    "    for file in files:\n",
    "        if file.endswith('.csv'):\n",
    "            csv_path = os.path.join(root, file)\n",
    "            batch_results = pd.read_csv(csv_path)\n",
    "            results_df = pd.concat([results_df, batch_results], ignore_index=True)\n",
    "\n",
    "# 保存整合后的结果到CSV\n",
    "results_csv_path = '/Users/liuguanhong/Desktop/facial_analysis_results.csv'\n",
    "results_df.to_csv(results_csv_path, index=False)\n",
    "print(f\"Facial analysis results saved to '{results_csv_path}'.\")\n",
    "\n"
   ]
  },
  {
   "cell_type": "code",
   "execution_count": 2,
   "metadata": {},
   "outputs": [
    {
     "name": "stdout",
     "output_type": "stream",
     "text": [
      "Running facial analysis...\n",
      "Running facial analysis...\n",
      "Running facial analysis...\n",
      "Running facial analysis...\n",
      "Running facial analysis...\n"
     ]
    },
    {
     "ename": "KeyboardInterrupt",
     "evalue": "",
     "output_type": "error",
     "traceback": [
      "\u001b[0;31m---------------------------------------------------------------------------\u001b[0m",
      "\u001b[0;31mKeyboardInterrupt\u001b[0m                         Traceback (most recent call last)",
      "Cell \u001b[0;32mIn[2], line 20\u001b[0m\n\u001b[1;32m     18\u001b[0m job \u001b[38;5;241m=\u001b[39m client\u001b[38;5;241m.\u001b[39msubmit_job(\u001b[38;5;28;01mNone\u001b[39;00m, [config], files\u001b[38;5;241m=\u001b[39mbatch_files)\n\u001b[1;32m     19\u001b[0m \u001b[38;5;28mprint\u001b[39m(\u001b[38;5;124m\"\u001b[39m\u001b[38;5;124mRunning facial analysis...\u001b[39m\u001b[38;5;124m\"\u001b[39m)\n\u001b[0;32m---> 20\u001b[0m details \u001b[38;5;241m=\u001b[39m \u001b[43mjob\u001b[49m\u001b[38;5;241;43m.\u001b[39;49m\u001b[43mawait_complete\u001b[49m\u001b[43m(\u001b[49m\u001b[43m)\u001b[49m\n\u001b[1;32m     22\u001b[0m \u001b[38;5;66;03m# 下载分析结果\u001b[39;00m\n\u001b[1;32m     23\u001b[0m artifacts_path \u001b[38;5;241m=\u001b[39m os\u001b[38;5;241m.\u001b[39mpath\u001b[38;5;241m.\u001b[39mjoin(image_dir, \u001b[38;5;124mf\u001b[39m\u001b[38;5;124m'\u001b[39m\u001b[38;5;124martifacts_batch_\u001b[39m\u001b[38;5;132;01m{\u001b[39;00mi\u001b[38;5;241m/\u001b[39m\u001b[38;5;241m/\u001b[39mbatch_size\u001b[38;5;132;01m}\u001b[39;00m\u001b[38;5;124m.zip\u001b[39m\u001b[38;5;124m'\u001b[39m)\n",
      "File \u001b[0;32m~/Library/Python/3.9/lib/python/site-packages/hume/_measurement/batch/batch_job.py:111\u001b[0m, in \u001b[0;36mBatchJob.await_complete\u001b[0;34m(self, timeout, raise_on_failed)\u001b[0m\n\u001b[1;32m    108\u001b[0m         \u001b[38;5;28;01mraise\u001b[39;00m HumeClientException(\u001b[38;5;124mf\u001b[39m\u001b[38;5;124m\"\u001b[39m\u001b[38;5;124mBatchJob \u001b[39m\u001b[38;5;132;01m{\u001b[39;00m\u001b[38;5;28mself\u001b[39m\u001b[38;5;241m.\u001b[39mid\u001b[38;5;132;01m}\u001b[39;00m\u001b[38;5;124m failed.\u001b[39m\u001b[38;5;124m\"\u001b[39m)\n\u001b[1;32m    109\u001b[0m     \u001b[38;5;28;01mreturn\u001b[39;00m details\n\u001b[0;32m--> 111\u001b[0m \u001b[38;5;28;01mreturn\u001b[39;00m \u001b[43m_await_complete\u001b[49m\u001b[43m(\u001b[49m\u001b[43mtimeout\u001b[49m\u001b[38;5;241;43m=\u001b[39;49m\u001b[43mtimeout\u001b[49m\u001b[43m)\u001b[49m\n",
      "File \u001b[0;32m~/Library/Python/3.9/lib/python/site-packages/hume/_common/utilities/retry_utilities.py:79\u001b[0m, in \u001b[0;36mretry.<locals>.decorator_func.<locals>.func_wrapper\u001b[0;34m(*args, **kwargs)\u001b[0m\n\u001b[1;32m     76\u001b[0m         message \u001b[38;5;241m=\u001b[39m \u001b[38;5;124mf\u001b[39m\u001b[38;5;124m\"\u001b[39m\u001b[38;5;124mRequest timed out after \u001b[39m\u001b[38;5;132;01m{\u001b[39;00mretry_timeout\u001b[38;5;132;01m}\u001b[39;00m\u001b[38;5;124ms\u001b[39m\u001b[38;5;124m\"\u001b[39m\n\u001b[1;32m     77\u001b[0m     \u001b[38;5;28;01mraise\u001b[39;00m HumeClientException(message)\n\u001b[0;32m---> 79\u001b[0m \u001b[43mtime\u001b[49m\u001b[38;5;241;43m.\u001b[39;49m\u001b[43msleep\u001b[49m\u001b[43m(\u001b[49m\u001b[43mdelay\u001b[49m\u001b[43m)\u001b[49m\n\u001b[1;32m     80\u001b[0m total_await_time \u001b[38;5;241m+\u001b[39m\u001b[38;5;241m=\u001b[39m delay\n\u001b[1;32m     82\u001b[0m new_delay \u001b[38;5;241m=\u001b[39m delay \u001b[38;5;241m*\u001b[39m retry_kwargs[\u001b[38;5;124m\"\u001b[39m\u001b[38;5;124mbackoff_factor\u001b[39m\u001b[38;5;124m\"\u001b[39m]\n",
      "\u001b[0;31mKeyboardInterrupt\u001b[0m: "
     ]
    }
   ],
   "source": [
    "# 初始化Hume.ai客户端\n",
    "client = HumeBatchClient(\"9FfD6nMezmjb1hvTaWwy09YGBCWDwL9NuK7cFipfZjq49iW7\")\n",
    "\n",
    "# 设置本地图像的路径\n",
    "image_dir = \"/Users/liuguanhong/Desktop/train\"\n",
    "image_files = [os.path.join(image_dir, f) for f in os.listdir(image_dir) if f.endswith(('.png', '.jpg', '.jpeg'))]\n",
    "\n",
    "# 创建一个空的DataFrame来存储结果\n",
    "results_df = pd.DataFrame()\n",
    "\n",
    "# 分批处理图像以避免内存问题\n",
    "batch_size = 10  # 你可以根据你的系统资源调整这个大小\n",
    "for i in range(0, len(image_files), batch_size):\n",
    "    batch_files = image_files[i:i+batch_size]\n",
    "\n",
    "    # 提交分析任务\n",
    "    config = FaceConfig()  # 初始化分析配置\n",
    "    job = client.submit_job(None, [config], files=batch_files)\n",
    "    print(\"Running facial analysis...\")\n",
    "    details = job.await_complete()\n",
    "\n",
    "    # 下载分析结果\n",
    "    artifacts_path = os.path.join(image_dir, f'artifacts_batch_{i//batch_size}.zip')\n",
    "    job.download_artifacts(artifacts_path)\n",
    "\n",
    "    # 解压分析结果\n",
    "    with zipfile.ZipFile(artifacts_path, 'r') as zip_file:\n",
    "        zip_file.extractall(os.path.join(image_dir, f'predictions_batch_{i//batch_size}'))\n",
    "\n",
    "    # 加载分析结果为DataFrame\n",
    "    predictions_path = os.path.join(image_dir, f'predictions_batch_{i//batch_size}')\n",
    "    for csv_file in os.listdir(predictions_path):\n",
    "        if csv_file.endswith('.csv'):\n",
    "            batch_results = pd.read_csv(os.path.join(predictions_path, csv_file))\n",
    "            results_df = pd.concat([results_df, batch_results], ignore_index=True)\n",
    "\n",
    "# 保存整合后的结果到CSV\n",
    "results_df.to_csv('/Users/liuguanhong/Desktop/facial_analysis_results.csv', index=False)\n",
    "print(\"Facial analysis results saved to 'facial_analysis_results.csv'.\")"
   ]
  }
 ],
 "metadata": {
  "kernelspec": {
   "display_name": "Python 3",
   "language": "python",
   "name": "python3"
  },
  "language_info": {
   "codemirror_mode": {
    "name": "ipython",
    "version": 3
   },
   "file_extension": ".py",
   "mimetype": "text/x-python",
   "name": "python",
   "nbconvert_exporter": "python",
   "pygments_lexer": "ipython3",
   "version": "3.9.6"
  }
 },
 "nbformat": 4,
 "nbformat_minor": 2
}
